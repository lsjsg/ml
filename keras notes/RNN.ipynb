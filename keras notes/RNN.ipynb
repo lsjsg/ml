{
 "cells": [
  {
   "cell_type": "code",
   "execution_count": 25,
   "metadata": {},
   "outputs": [],
   "source": [
    "import numpy as np\n",
    "np.random.seed(1337)\n",
    "from keras.datasets import mnist\n",
    "from keras.utils import np_utils\n",
    "from keras.models import Sequential\n",
    "from keras.layers import SimpleRNN, Activation,Dense\n",
    "from keras.optimizers import Adam"
   ]
  },
  {
   "cell_type": "code",
   "execution_count": 26,
   "metadata": {},
   "outputs": [],
   "source": [
    "TIME_STEPS = 28 # 读取多少行, 多少个时间点\n",
    "INPUT_SIZE = 28 # 每次读取多少像素\n",
    "BATCH_SIZE = 50 # 每一批训练多少图片\n",
    "BATCH_INDEX = 0 \n",
    "OUTPUT_SIZE = 10 # 输出结果\n",
    "CELL_SIZE = 50 # RNN 内的hidden unit\n",
    "LR = 0.001"
   ]
  },
  {
   "cell_type": "code",
   "execution_count": 27,
   "metadata": {},
   "outputs": [],
   "source": [
    "(x_train,y_train),(x_test,y_test) = mnist.load_data()\n",
    "x_train = x_train.reshape(-1,28,28)/255.\n",
    "x_test = x_test.reshape(-1,28,28)/255.\n",
    "y_train = np_utils.to_categorical(y_train,num_classes=10)\n",
    "y_test = np_utils.to_categorical(y_test,num_classes=10)"
   ]
  },
  {
   "cell_type": "code",
   "execution_count": 31,
   "metadata": {},
   "outputs": [
    {
     "name": "stderr",
     "output_type": "stream",
     "text": [
      "C:\\ProgramData\\Anaconda3\\lib\\site-packages\\ipykernel_launcher.py:5: UserWarning: Update your `SimpleRNN` call to the Keras 2 API: `SimpleRNN(batch_input_shape=(None, 28,..., units=50)`\n",
      "  \"\"\"\n"
     ]
    }
   ],
   "source": [
    "model = Sequential()\n",
    "# define RNN cell\n",
    "model.add(SimpleRNN(\n",
    "    batch_input_shape=(None,TIME_STEPS,INPUT_SIZE),\n",
    "    output_dim=CELL_SIZE))\n",
    "model.add(Dense(OUTPUT_SIZE))\n",
    "model.add(Activation(\"softmax\"))\n",
    "adam = Adam(lr=LR)\n",
    "model.compile(optimizer=adam,loss=\"categorical_crossentropy\",metrics=[\"accuracy\"])"
   ]
  },
  {
   "cell_type": "code",
   "execution_count": 32,
   "metadata": {},
   "outputs": [
    {
     "name": "stdout",
     "output_type": "stream",
     "text": [
      "test cost: 2.396132707595825 test accuracy: 0.11919999867677689\n",
      "test cost: 0.6655481457710266 test accuracy: 0.7937999963760376\n",
      "test cost: 0.43417656421661377 test accuracy: 0.8726000189781189\n",
      "test cost: 0.3436770439147949 test accuracy: 0.9002000093460083\n",
      "test cost: 0.3580048978328705 test accuracy: 0.8944000005722046\n",
      "test cost: 0.2744145393371582 test accuracy: 0.9169999957084656\n",
      "test cost: 0.24948544800281525 test accuracy: 0.9265000224113464\n",
      "test cost: 0.24070464074611664 test accuracy: 0.9301000237464905\n",
      "test cost: 0.22516611218452454 test accuracy: 0.9319999814033508\n"
     ]
    }
   ],
   "source": [
    "for step in range(4001):\n",
    "    x_batch = x_train[BATCH_INDEX:BATCH_INDEX+BATCH_SIZE,:,:]\n",
    "    y_batch = y_train[BATCH_INDEX:BATCH_INDEX+BATCH_SIZE,:]\n",
    "    cost = model.train_on_batch(x_batch,y_batch)\n",
    "    BATCH_INDEX += BATCH_SIZE\n",
    "    BATCH_INDEX = 0 if BATCH_INDEX >= x_train.shape[0] else BATCH_INDEX\n",
    "    if step % 500 == 0:\n",
    "        cost,accuracy = model.evaluate(x_test,y_test,batch_size=y_test.shape[0],verbose=False)\n",
    "        print(\"test cost:\",cost,\"test accuracy:\",accuracy)"
   ]
  }
 ],
 "metadata": {
  "kernelspec": {
   "display_name": "Python 3",
   "language": "python",
   "name": "python3"
  },
  "language_info": {
   "codemirror_mode": {
    "name": "ipython",
    "version": 3
   },
   "file_extension": ".py",
   "mimetype": "text/x-python",
   "name": "python",
   "nbconvert_exporter": "python",
   "pygments_lexer": "ipython3",
   "version": "3.7.1"
  }
 },
 "nbformat": 4,
 "nbformat_minor": 2
}
