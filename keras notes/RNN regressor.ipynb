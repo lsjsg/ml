{
 "cells": [
  {
   "cell_type": "code",
   "execution_count": 1,
   "metadata": {},
   "outputs": [
    {
     "name": "stderr",
     "output_type": "stream",
     "text": [
      "Using TensorFlow backend.\n"
     ]
    }
   ],
   "source": [
    "import numpy as np\n",
    "np.random.seed(1337)\n",
    "import matplotlib.pyplot as plt\n",
    "from keras.models import Sequential\n",
    "from keras.layers import LSTM, TimeDistributed,Dense\n",
    "from keras.optimizers import Adam"
   ]
  },
  {
   "cell_type": "code",
   "execution_count": 2,
   "metadata": {},
   "outputs": [],
   "source": [
    "batch_start = 0 \n",
    "time_steps = 20\n",
    "batch_size = 50\n",
    "input_size = 1\n",
    "output_size = 1\n",
    "cell_size = 20\n",
    "learning_rate = 0.006"
   ]
  },
  {
   "cell_type": "code",
   "execution_count": 3,
   "metadata": {},
   "outputs": [],
   "source": [
    "def get_batch():\n",
    "    global batch_start,time_steps\n",
    "    xs = np.arange(batch_start,batch_start+time_steps*batch_size).reshape((batch_size,time_steps))/(10*np.pi)\n",
    "    seq = np.sin(xs)\n",
    "    res = np.cos(xs)\n",
    "    batch_start += time_steps\n",
    "#     plt.plot(xs[0,:],res[0,:],\"r\",xs[0,:],seq[0,:],\"b--\")\n",
    "#     plt.show()\n",
    "    return [seq[:,:,np.newaxis],res[:,:,np.newaxis],xs]"
   ]
  },
  {
   "cell_type": "code",
   "execution_count": 4,
   "metadata": {},
   "outputs": [
    {
     "name": "stdout",
     "output_type": "stream",
     "text": [
      "WARNING:tensorflow:From C:\\Users\\lsjsg\\AppData\\Roaming\\Python\\Python37\\site-packages\\tensorflow\\python\\framework\\op_def_library.py:263: colocate_with (from tensorflow.python.framework.ops) is deprecated and will be removed in a future version.\n",
      "Instructions for updating:\n",
      "Colocations handled automatically by placer.\n"
     ]
    },
    {
     "name": "stderr",
     "output_type": "stream",
     "text": [
      "C:\\ProgramData\\Anaconda3\\lib\\site-packages\\ipykernel_launcher.py:5: UserWarning: Update your `LSTM` call to the Keras 2 API: `LSTM(batch_input_shape=(50, 20, 1..., return_sequences=True, stateful=True, units=20)`\n",
      "  \"\"\"\n"
     ]
    }
   ],
   "source": [
    "model = Sequential()\n",
    "model.add(LSTM(batch_input_shape=(batch_size,time_steps,input_size),\n",
    "              output_dim=cell_size,\n",
    "              return_sequences=True, # 在每一个时间点输出一个output\n",
    "              stateful=True)) # 状态是否要传递\n",
    "model.add(TimeDistributed(Dense(output_size)))\n",
    "adam=Adam(learning_rate)\n",
    "model.compile(optimizer=adam,loss=\"mse\")"
   ]
  },
  {
   "cell_type": "code",
   "execution_count": 5,
   "metadata": {},
   "outputs": [
    {
     "name": "stdout",
     "output_type": "stream",
     "text": [
      "Training ==================\n",
      "WARNING:tensorflow:From C:\\Users\\lsjsg\\AppData\\Roaming\\Python\\Python37\\site-packages\\tensorflow\\python\\ops\\math_ops.py:3066: to_int32 (from tensorflow.python.ops.math_ops) is deprecated and will be removed in a future version.\n",
      "Instructions for updating:\n",
      "Use tf.cast instead.\n",
      "training cost: 0.50940645\n",
      "training cost: 0.3690878\n",
      "training cost: 0.038345817\n",
      "training cost: 0.12396123\n",
      "training cost: 0.09536075\n",
      "training cost: 0.10823543\n",
      "training cost: 0.112512566\n",
      "training cost: 0.16599022\n",
      "training cost: 0.15102226\n",
      "training cost: 0.115069486\n",
      "training cost: 0.053223025\n",
      "training cost: 0.022259897\n",
      "training cost: 0.06665714\n",
      "training cost: 0.10478619\n",
      "training cost: 0.04292352\n",
      "training cost: 0.009248171\n",
      "training cost: 0.005720943\n",
      "training cost: 0.019497992\n",
      "training cost: 0.012434388\n",
      "training cost: 0.010553488\n",
      "training cost: 0.0056461073\n",
      "training cost: 0.002083427\n",
      "training cost: 0.0010251106\n",
      "training cost: 0.00494018\n",
      "training cost: 0.007953158\n",
      "training cost: 0.0035904213\n",
      "training cost: 0.00049850845\n",
      "training cost: 0.004196807\n",
      "training cost: 0.003478504\n",
      "training cost: 0.0009578451\n",
      "training cost: 0.0011011034\n",
      "training cost: 0.00223722\n",
      "training cost: 0.00057419884\n",
      "training cost: 0.00075686566\n",
      "training cost: 0.0014318918\n",
      "training cost: 0.00046672628\n",
      "training cost: 0.00017709697\n",
      "training cost: 0.00048664262\n",
      "training cost: 0.00074592\n",
      "training cost: 0.00019621488\n",
      "training cost: 0.00026313472\n",
      "training cost: 0.0003492006\n",
      "training cost: 0.00031461197\n",
      "training cost: 0.00019659396\n",
      "training cost: 0.00010891038\n",
      "training cost: 0.00027547023\n",
      "training cost: 0.00024469304\n",
      "training cost: 0.0002491399\n",
      "training cost: 0.00022733824\n",
      "training cost: 7.9040015e-05\n",
      "training cost: 0.00011322623\n"
     ]
    },
    {
     "data": {
      "text/plain": [
       "(-1.2, 1.2)"
      ]
     },
     "execution_count": 5,
     "metadata": {},
     "output_type": "execute_result"
    },
    {
     "data": {
      "image/png": "[encoded data removed]",
      "text/plain": [
       "<Figure size 432x288 with 1 Axes>"
      ]
     },
     "metadata": {
      "needs_background": "light"
     },
     "output_type": "display_data"
    }
   ],
   "source": [
    "print(\"Training ==================\")\n",
    "for step in range(501):\n",
    "    x_batch,y_batch,xs = get_batch()\n",
    "    cost = model.train_on_batch(x_batch,y_batch)\n",
    "    if step % 10 == 0:\n",
    "        print(\"training cost:\",cost)\n",
    "pred = model.predict(x_batch,batch_size)\n",
    "plt.plot(xs[0,:],y_batch[0].flatten(),\"r\",xs[0,:],pred.flatten()[:time_steps],\"b--\")\n",
    "plt.ylim((-1.2,1.2))\n",
    "# plt.draw()\n",
    "# plt.pause(0.1)"
   ]
  },
  {
   "cell_type": "code",
   "execution_count": null,
   "metadata": {},
   "outputs": [],
   "source": []
  }
 ],
 "metadata": {
  "kernelspec": {
   "display_name": "Python 3",
   "language": "python",
   "name": "python3"
  },
  "language_info": {
   "codemirror_mode": {
    "name": "ipython",
    "version": 3
   },
   "file_extension": ".py",
   "mimetype": "text/x-python",
   "name": "python",
   "nbconvert_exporter": "python",
   "pygments_lexer": "ipython3",
   "version": "3.7.1"
  }
 },
 "nbformat": 4,
 "nbformat_minor": 2
}
