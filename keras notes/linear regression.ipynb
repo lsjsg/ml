{
 "cells": [
  {
   "cell_type": "markdown",
   "metadata": {},
   "source": [
    "### 将安装好的libraries 加载进jupyter notebook的内核:\n",
    "jupyter kernelspec install-self"
   ]
  },
  {
   "cell_type": "markdown",
   "metadata": {},
   "source": [
    "keras 有两种backend, backend 即为keras底层是如何实现的是用的那种框架搭建的神经网络.一种是tensorflow 一种是theano\n",
    "切换backend 的方式\n",
    "\n",
    "pip uninstall -y <模块名> 这个命令可以删除一个模块, -y 表示不需要按确认。\n",
    "\n",
    "pip --upgrade --force-reinstall <模块名> 这个命令将强制重装第三方包.\n",
    "\n",
    "临时切换:\n",
    "terminal中可输入:\n",
    "KERAS_BACKEND=tensorflow python3 -c \"from keras import backend\""
   ]
  },
  {
   "cell_type": "code",
   "execution_count": 1,
   "metadata": {},
   "outputs": [],
   "source": [
    "# 使用 tensorflow backend\n",
    "import os\n",
    "os.environ[\"KERAS_BACKEND\"]=\"tensorflow\""
   ]
  },
  {
   "cell_type": "code",
   "execution_count": 2,
   "metadata": {},
   "outputs": [],
   "source": [
    "# 使用 theano backend\n",
    "# import os\n",
    "# os.environ[\"KERAS_BACKEND\"]=\"theano\""
   ]
  },
  {
   "cell_type": "code",
   "execution_count": 3,
   "metadata": {},
   "outputs": [
    {
     "name": "stderr",
     "output_type": "stream",
     "text": [
      "Using TensorFlow backend.\n"
     ]
    }
   ],
   "source": [
    "import keras"
   ]
  },
  {
   "cell_type": "markdown",
   "metadata": {},
   "source": [
    "## Linear regression\n",
    "用一条直线来对数据进行拟合"
   ]
  },
  {
   "cell_type": "code",
   "execution_count": 4,
   "metadata": {},
   "outputs": [],
   "source": [
    "# 导入模块\n",
    "import numpy as np\n",
    "np.random.seed(1337)\n",
    "from keras.models import Sequential\n",
    "from keras.layers import Dense\n",
    "import matplotlib.pyplot as plt"
   ]
  },
  {
   "cell_type": "code",
   "execution_count": 9,
   "metadata": {},
   "outputs": [
    {
     "data": {
      "image/png": "[encoded data removed]",
      "text/plain": [
       "<Figure size 432x288 with 1 Axes>"
      ]
     },
     "metadata": {
      "needs_background": "light"
     },
     "output_type": "display_data"
    }
   ],
   "source": [
    "# 数据集准备\n",
    "X = np.linspace(-1,1,200) # 从-1到1的x轴变化为200的直线\n",
    "np.random.shuffle(X) # randomlize the data\n",
    "Y = 0.5*X + 2 + np.random.normal(0,0.05,(200,))\n",
    "plt.scatter(X,Y)\n",
    "plt.show()\n",
    "X_train,Y_train = X[:160],Y[:160]\n",
    "X_test,Y_test = X[160:],Y[160:]"
   ]
  },
  {
   "cell_type": "code",
   "execution_count": 10,
   "metadata": {},
   "outputs": [
    {
     "name": "stderr",
     "output_type": "stream",
     "text": [
      "C:\\ProgramData\\Anaconda3\\lib\\site-packages\\ipykernel_launcher.py:3: UserWarning: Update your `Dense` call to the Keras 2 API: `Dense(input_dim=1, units=1)`\n",
      "  This is separate from the ipykernel package so we can avoid doing imports until\n"
     ]
    }
   ],
   "source": [
    "# create model\n",
    "model = Sequential()\n",
    "model.add(Dense(output_dim=1,input_dim=1)) # 需要指定第一层的input的形状"
   ]
  },
  {
   "cell_type": "code",
   "execution_count": 11,
   "metadata": {},
   "outputs": [],
   "source": [
    "# 搭建模型\n",
    "model.compile(loss=\"mse\",optimizer=\"sgd\") # 定义loss为mean square error, optimizer选用sgd"
   ]
  },
  {
   "cell_type": "code",
   "execution_count": 12,
   "metadata": {},
   "outputs": [
    {
     "name": "stdout",
     "output_type": "stream",
     "text": [
      "training -----------\n",
      "WARNING:tensorflow:From C:\\Users\\lsjsg\\AppData\\Roaming\\Python\\Python37\\site-packages\\tensorflow\\python\\ops\\math_ops.py:3066: to_int32 (from tensorflow.python.ops.math_ops) is deprecated and will be removed in a future version.\n",
      "Instructions for updating:\n",
      "Use tf.cast instead.\n",
      "training cost:4.023179054260254\n",
      "training cost:0.07316292077302933\n",
      "training cost:0.003820077981799841\n",
      "training cost:0.0026026952546089888\n"
     ]
    }
   ],
   "source": [
    "# training\n",
    "print(\"training -----------\")\n",
    "for step in range(301):\n",
    "    cost = model.train_on_batch(X_train,Y_train) # 训练时依据每一个batch进行训练\n",
    "    if step%100==0:\n",
    "        print(\"training cost:{}\".format(cost))"
   ]
  },
  {
   "cell_type": "code",
   "execution_count": 14,
   "metadata": {},
   "outputs": [
    {
     "name": "stdout",
     "output_type": "stream",
     "text": [
      "testing----------------\n",
      "40/40 [==============================] - 0s 500us/step\n",
      "test cost 0.003187681781128049\n",
      "Weight=[[0.48637906]],bias=[1.9993744]\n"
     ]
    }
   ],
   "source": [
    "# test\n",
    "print(\"testing----------------\")\n",
    "cost=model.evaluate(X_test,Y_test,batch_size=40)\n",
    "weight,bias = model.layers[0].get_weights()\n",
    "print(\"test cost\",cost)\n",
    "print(\"Weight={0},bias={1}\".format(weight,bias))"
   ]
  },
  {
   "cell_type": "code",
   "execution_count": 17,
   "metadata": {},
   "outputs": [
    {
     "data": {
      "image/png": "[encoded data removed]",
      "text/plain": [
       "<Figure size 432x288 with 1 Axes>"
      ]
     },
     "metadata": {
      "needs_background": "light"
     },
     "output_type": "display_data"
    }
   ],
   "source": [
    "# visualize the model\n",
    "Y_pred = model.predict(X_test)\n",
    "plt.plot(X_test,Y_pred,color=\"red\")\n",
    "plt.scatter(X_test,Y_test,color=\"blue\")\n",
    "plt.show()"
   ]
  }
 ],
 "metadata": {
  "kernelspec": {
   "display_name": "Python 3",
   "language": "python",
   "name": "python3"
  },
  "language_info": {
   "codemirror_mode": {
    "name": "ipython",
    "version": 3
   },
   "file_extension": ".py",
   "mimetype": "text/x-python",
   "name": "python",
   "nbconvert_exporter": "python",
   "pygments_lexer": "ipython3",
   "version": "3.7.1"
  }
 },
 "nbformat": 4,
 "nbformat_minor": 2
}
